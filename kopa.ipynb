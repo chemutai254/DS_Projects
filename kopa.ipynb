{
 "cells": [
  {
   "cell_type": "code",
   "execution_count": 43,
   "metadata": {},
   "outputs": [],
   "source": [
    "# General libraries\n",
    "import numpy as np\n",
    "import pandas as pd\n",
    "import matplotlib.pyplot as plt\n",
    "from pandas_profiling import ProfileReport\n",
    "\n",
    "#Visualization libraries\n",
    "import matplotlib.pyplot as plt\n",
    "import seaborn as sns\n",
    "\n",
    "#modelling libraries\n",
    "\n",
    "#Data splitting\n",
    "from sklearn.model_selection import train_test_split\n",
    "from sklearn.preprocessing import LabelEncoder\n",
    "\n",
    "#Models\n",
    "from sklearn.linear_model import LinearRegression, LogisticRegression\n",
    "from sklearn.tree import DecisionTreeClassifier, DecisionTreeRegressor\n",
    "from sklearn.ensemble import RandomForestClassifier, RandomForestRegressor,AdaBoostClassifier, AdaBoostRegressor, GradientBoostingClassifier, GradientBoostingRegressor\n",
    "from sklearn.svm import SVC, SVR\n",
    "from sklearn.naive_bayes import GaussianNB\n",
    "\n",
    "# Import metrics\n",
    "\n",
    "# Classification metrics\n",
    "from sklearn.metrics import classification_report\n",
    "\n",
    "# Regression metrics\n",
    "from sklearn.metrics import mean_absolute_error, mean_squared_error, r2_score\n",
    "\n"
   ]
  },
  {
   "cell_type": "markdown",
   "metadata": {},
   "source": [
    "Data Obtainance, Cleaning & Feature Engineering"
   ]
  },
  {
   "cell_type": "markdown",
   "metadata": {},
   "source": [
    "Load the data"
   ]
  },
  {
   "cell_type": "code",
   "execution_count": 44,
   "metadata": {},
   "outputs": [
    {
     "data": {
      "text/html": [
       "<div>\n",
       "<style scoped>\n",
       "    .dataframe tbody tr th:only-of-type {\n",
       "        vertical-align: middle;\n",
       "    }\n",
       "\n",
       "    .dataframe tbody tr th {\n",
       "        vertical-align: top;\n",
       "    }\n",
       "\n",
       "    .dataframe thead th {\n",
       "        text-align: right;\n",
       "    }\n",
       "</style>\n",
       "<table border=\"1\" class=\"dataframe\">\n",
       "  <thead>\n",
       "    <tr style=\"text-align: right;\">\n",
       "      <th></th>\n",
       "      <th>Product</th>\n",
       "      <th>CustomerGender</th>\n",
       "      <th>Location</th>\n",
       "      <th>Region</th>\n",
       "      <th>TotalPrice</th>\n",
       "      <th>StartDate</th>\n",
       "      <th>Deposit</th>\n",
       "      <th>DailyRate</th>\n",
       "      <th>TotalDays</th>\n",
       "      <th>AmountPaid30</th>\n",
       "      <th>AmountPaid60</th>\n",
       "      <th>AmountPaid360</th>\n",
       "      <th>LoanStatus360</th>\n",
       "    </tr>\n",
       "  </thead>\n",
       "  <tbody>\n",
       "    <tr>\n",
       "      <th>0</th>\n",
       "      <td>Product B</td>\n",
       "      <td>Male</td>\n",
       "      <td>Location 2</td>\n",
       "      <td>Region 2</td>\n",
       "      <td>16600</td>\n",
       "      <td>7/4/2014</td>\n",
       "      <td>2000</td>\n",
       "      <td>40</td>\n",
       "      <td>365</td>\n",
       "      <td>3121</td>\n",
       "      <td>4241</td>\n",
       "      <td>13621</td>\n",
       "      <td>Active</td>\n",
       "    </tr>\n",
       "    <tr>\n",
       "      <th>1</th>\n",
       "      <td>Product B</td>\n",
       "      <td>Male</td>\n",
       "      <td>Location 3</td>\n",
       "      <td>Region 3</td>\n",
       "      <td>16600</td>\n",
       "      <td>1/2/2015</td>\n",
       "      <td>2000</td>\n",
       "      <td>40</td>\n",
       "      <td>365</td>\n",
       "      <td>3061</td>\n",
       "      <td>4171</td>\n",
       "      <td>15041</td>\n",
       "      <td>Active</td>\n",
       "    </tr>\n",
       "    <tr>\n",
       "      <th>2</th>\n",
       "      <td>Product C</td>\n",
       "      <td>Female</td>\n",
       "      <td>Location 5</td>\n",
       "      <td>Region 5</td>\n",
       "      <td>15600</td>\n",
       "      <td>12/8/2012</td>\n",
       "      <td>1000</td>\n",
       "      <td>40</td>\n",
       "      <td>365</td>\n",
       "      <td>2160</td>\n",
       "      <td>3280</td>\n",
       "      <td>15340</td>\n",
       "      <td>Active</td>\n",
       "    </tr>\n",
       "    <tr>\n",
       "      <th>3</th>\n",
       "      <td>Product B</td>\n",
       "      <td>Male</td>\n",
       "      <td>Location 6</td>\n",
       "      <td>Region 1</td>\n",
       "      <td>16600</td>\n",
       "      <td>2/20/2015</td>\n",
       "      <td>2000</td>\n",
       "      <td>40</td>\n",
       "      <td>365</td>\n",
       "      <td>3041</td>\n",
       "      <td>4241</td>\n",
       "      <td>15321</td>\n",
       "      <td>Active</td>\n",
       "    </tr>\n",
       "    <tr>\n",
       "      <th>4</th>\n",
       "      <td>Product D</td>\n",
       "      <td>Female</td>\n",
       "      <td>Location 7</td>\n",
       "      <td>Region 2</td>\n",
       "      <td>20250</td>\n",
       "      <td>10/28/2013</td>\n",
       "      <td>2000</td>\n",
       "      <td>50</td>\n",
       "      <td>365</td>\n",
       "      <td>3470</td>\n",
       "      <td>4820</td>\n",
       "      <td>13720</td>\n",
       "      <td>Active</td>\n",
       "    </tr>\n",
       "  </tbody>\n",
       "</table>\n",
       "</div>"
      ],
      "text/plain": [
       "     Product CustomerGender    Location    Region  TotalPrice   StartDate  \\\n",
       "0  Product B           Male  Location 2  Region 2       16600    7/4/2014   \n",
       "1  Product B           Male  Location 3  Region 3       16600    1/2/2015   \n",
       "2  Product C         Female  Location 5  Region 5       15600   12/8/2012   \n",
       "3  Product B           Male  Location 6  Region 1       16600   2/20/2015   \n",
       "4  Product D         Female  Location 7  Region 2       20250  10/28/2013   \n",
       "\n",
       "   Deposit  DailyRate  TotalDays  AmountPaid30  AmountPaid60  AmountPaid360  \\\n",
       "0     2000         40        365          3121          4241          13621   \n",
       "1     2000         40        365          3061          4171          15041   \n",
       "2     1000         40        365          2160          3280          15340   \n",
       "3     2000         40        365          3041          4241          15321   \n",
       "4     2000         50        365          3470          4820          13720   \n",
       "\n",
       "  LoanStatus360  \n",
       "0        Active  \n",
       "1        Active  \n",
       "2        Active  \n",
       "3        Active  \n",
       "4        Active  "
      ]
     },
     "execution_count": 44,
     "metadata": {},
     "output_type": "execute_result"
    }
   ],
   "source": [
    "kopa = pd.read_csv(\"KOPA.csv\")\n",
    "kopa.head()"
   ]
  },
  {
   "cell_type": "code",
   "execution_count": 45,
   "metadata": {},
   "outputs": [
    {
     "name": "stdout",
     "output_type": "stream",
     "text": [
      "<class 'pandas.core.frame.DataFrame'>\n",
      "RangeIndex: 9195 entries, 0 to 9194\n",
      "Data columns (total 13 columns):\n",
      " #   Column          Non-Null Count  Dtype \n",
      "---  ------          --------------  ----- \n",
      " 0   Product         9195 non-null   object\n",
      " 1   CustomerGender  9195 non-null   object\n",
      " 2   Location        9195 non-null   object\n",
      " 3   Region          9195 non-null   object\n",
      " 4   TotalPrice      9195 non-null   int64 \n",
      " 5   StartDate       9195 non-null   object\n",
      " 6   Deposit         9195 non-null   int64 \n",
      " 7   DailyRate       9195 non-null   int64 \n",
      " 8   TotalDays       9195 non-null   int64 \n",
      " 9   AmountPaid30    9195 non-null   int64 \n",
      " 10  AmountPaid60    9195 non-null   int64 \n",
      " 11  AmountPaid360   9195 non-null   int64 \n",
      " 12  LoanStatus360   9195 non-null   object\n",
      "dtypes: int64(7), object(6)\n",
      "memory usage: 934.0+ KB\n"
     ]
    }
   ],
   "source": [
    "kopa.info()"
   ]
  },
  {
   "cell_type": "markdown",
   "metadata": {},
   "source": [
    "Cleaning the Data"
   ]
  },
  {
   "cell_type": "code",
   "execution_count": 46,
   "metadata": {},
   "outputs": [
    {
     "data": {
      "application/vnd.jupyter.widget-view+json": {
       "model_id": "e2fab709f0914605a400fecffae35663",
       "version_major": 2,
       "version_minor": 0
      },
      "text/plain": [
       "Summarize dataset:   0%|          | 0/5 [00:00<?, ?it/s]"
      ]
     },
     "metadata": {},
     "output_type": "display_data"
    },
    {
     "data": {
      "application/vnd.jupyter.widget-view+json": {
       "model_id": "f47c34aac4d7468991c735e2fc4b3c42",
       "version_major": 2,
       "version_minor": 0
      },
      "text/plain": [
       "Generate report structure:   0%|          | 0/1 [00:00<?, ?it/s]"
      ]
     },
     "metadata": {},
     "output_type": "display_data"
    },
    {
     "data": {
      "application/vnd.jupyter.widget-view+json": {
       "model_id": "c0317b6bc471461597e7e9054368fc51",
       "version_major": 2,
       "version_minor": 0
      },
      "text/plain": [
       "Render widgets:   0%|          | 0/1 [00:00<?, ?it/s]"
      ]
     },
     "metadata": {},
     "output_type": "display_data"
    }
   ],
   "source": [
    "# Check for irregularities in the data\n",
    "report = ProfileReport(kopa)\n",
    "report.to_widgets()"
   ]
  },
  {
   "cell_type": "code",
   "execution_count": null,
   "metadata": {},
   "outputs": [],
   "source": [
    "#Drop unnecessary columns\n",
    "\n",
    "to_drop = ['TotalDays', 'Location', 'StartDate', 'AmountPaid30', 'DailyRate']\n",
    "kopa_clean = kopa.drop(to_drop, axis = 1)"
   ]
  },
  {
   "cell_type": "markdown",
   "metadata": {},
   "source": [
    "Feature Engineering\n",
    "\n",
    "Converts data into Numerical\n",
    "\n",
    "In out case we use the label encoder by sklearn"
   ]
  },
  {
   "cell_type": "code",
   "execution_count": null,
   "metadata": {},
   "outputs": [],
   "source": [
    "# Let's create two datasets i.e. regression and classification\n",
    "kopa_regression = kopa_clean.copy()\n",
    "kopa_classification = kopa_clean.copy()"
   ]
  },
  {
   "cell_type": "code",
   "execution_count": null,
   "metadata": {},
   "outputs": [],
   "source": [
    "# Use the label encoder to convert data from categorical into numerical\n",
    "# regression dataset\n",
    "# Instantiate the encoder\n",
    "encoder = LabelEncoder()\n",
    "\n",
    "# Encode the categorical column - return columns that are categorical\n",
    "cat_columns = [column for column in kopa_regression.columns if kopa_regression[column].dtype == 'O']\n",
    "\n",
    "# Label encode \n",
    "for column in cat_columns:\n",
    "    kopa_regression[column] = encoder.fit_transform(kopa_regression[column])"
   ]
  },
  {
   "cell_type": "code",
   "execution_count": null,
   "metadata": {},
   "outputs": [
    {
     "data": {
      "text/html": [
       "<div>\n",
       "<style scoped>\n",
       "    .dataframe tbody tr th:only-of-type {\n",
       "        vertical-align: middle;\n",
       "    }\n",
       "\n",
       "    .dataframe tbody tr th {\n",
       "        vertical-align: top;\n",
       "    }\n",
       "\n",
       "    .dataframe thead th {\n",
       "        text-align: right;\n",
       "    }\n",
       "</style>\n",
       "<table border=\"1\" class=\"dataframe\">\n",
       "  <thead>\n",
       "    <tr style=\"text-align: right;\">\n",
       "      <th></th>\n",
       "      <th>Product</th>\n",
       "      <th>CustomerGender</th>\n",
       "      <th>Region</th>\n",
       "      <th>TotalPrice</th>\n",
       "      <th>Deposit</th>\n",
       "      <th>AmountPaid60</th>\n",
       "      <th>AmountPaid360</th>\n",
       "      <th>LoanStatus360</th>\n",
       "    </tr>\n",
       "  </thead>\n",
       "  <tbody>\n",
       "    <tr>\n",
       "      <th>0</th>\n",
       "      <td>1</td>\n",
       "      <td>1</td>\n",
       "      <td>10</td>\n",
       "      <td>16600</td>\n",
       "      <td>2000</td>\n",
       "      <td>4241</td>\n",
       "      <td>13621</td>\n",
       "      <td>0</td>\n",
       "    </tr>\n",
       "    <tr>\n",
       "      <th>1</th>\n",
       "      <td>1</td>\n",
       "      <td>1</td>\n",
       "      <td>11</td>\n",
       "      <td>16600</td>\n",
       "      <td>2000</td>\n",
       "      <td>4171</td>\n",
       "      <td>15041</td>\n",
       "      <td>0</td>\n",
       "    </tr>\n",
       "    <tr>\n",
       "      <th>2</th>\n",
       "      <td>2</td>\n",
       "      <td>0</td>\n",
       "      <td>13</td>\n",
       "      <td>15600</td>\n",
       "      <td>1000</td>\n",
       "      <td>3280</td>\n",
       "      <td>15340</td>\n",
       "      <td>0</td>\n",
       "    </tr>\n",
       "    <tr>\n",
       "      <th>3</th>\n",
       "      <td>1</td>\n",
       "      <td>1</td>\n",
       "      <td>0</td>\n",
       "      <td>16600</td>\n",
       "      <td>2000</td>\n",
       "      <td>4241</td>\n",
       "      <td>15321</td>\n",
       "      <td>0</td>\n",
       "    </tr>\n",
       "    <tr>\n",
       "      <th>4</th>\n",
       "      <td>3</td>\n",
       "      <td>0</td>\n",
       "      <td>10</td>\n",
       "      <td>20250</td>\n",
       "      <td>2000</td>\n",
       "      <td>4820</td>\n",
       "      <td>13720</td>\n",
       "      <td>0</td>\n",
       "    </tr>\n",
       "  </tbody>\n",
       "</table>\n",
       "</div>"
      ],
      "text/plain": [
       "   Product  CustomerGender  Region  TotalPrice  Deposit  AmountPaid60  \\\n",
       "0        1               1      10       16600     2000          4241   \n",
       "1        1               1      11       16600     2000          4171   \n",
       "2        2               0      13       15600     1000          3280   \n",
       "3        1               1       0       16600     2000          4241   \n",
       "4        3               0      10       20250     2000          4820   \n",
       "\n",
       "   AmountPaid360  LoanStatus360  \n",
       "0          13621              0  \n",
       "1          15041              0  \n",
       "2          15340              0  \n",
       "3          15321              0  \n",
       "4          13720              0  "
      ]
     },
     "execution_count": 37,
     "metadata": {},
     "output_type": "execute_result"
    }
   ],
   "source": [
    "kopa_regression.head()"
   ]
  },
  {
   "cell_type": "code",
   "execution_count": null,
   "metadata": {},
   "outputs": [
    {
     "name": "stdout",
     "output_type": "stream",
     "text": [
      "{'Active': 0, 'Blocked': 1, 'Finished Payment': 2}\n"
     ]
    }
   ],
   "source": [
    "# kopa classification\n",
    "# create a mapper dictionary to map data\n",
    "mapper = {}\n",
    "target_values = list(kopa_classification['LoanStatus360'].unique())\n",
    "for value, key in enumerate(target_values):\n",
    "    mapper[key] = value\n",
    "    \n",
    "print(mapper)\n",
    "\n",
    "# replace the data in the target variables\n",
    "kopa_classification['LoanStatus360'] = kopa_classification['LoanStatus360'].replace(mapper)\n",
    "\n",
    "# Encode the categorical column - change categorical data into numerical\n",
    "cat_columns = [column for column in kopa_classification.columns if kopa_classification[column].dtype == 'O']\n",
    "\n",
    "# Label encode \n",
    "for column in cat_columns:\n",
    "    kopa_classification[column] = encoder.fit_transform(kopa_classification[column])\n"
   ]
  },
  {
   "cell_type": "markdown",
   "metadata": {},
   "source": [
    "Split data into train, validation and test\n",
    "\n",
    "It is an iterative process"
   ]
  },
  {
   "cell_type": "code",
   "execution_count": null,
   "metadata": {},
   "outputs": [],
   "source": [
    "# Split data into features and output data\n",
    "x_c = kopa_classification.drop('LoanStatus360', axis = 1)\n",
    "y_c = kopa_classification['LoanStatus360']\n",
    "\n",
    "# create fisrt split\n",
    "x_train_c, x_holdout_c, y_train_c, y_holdout_c = train_test_split(x_c, y_c, test_size = 0.3, random_state = 42)\n",
    "\n",
    "# split into validation\n",
    "x_test_c, x_val_c, y_test_c, y_val_c = train_test_split(x_holdout_c, y_holdout_c, test_size = 0.5, random_state = 42)\n",
    "\n"
   ]
  },
  {
   "cell_type": "code",
   "execution_count": null,
   "metadata": {},
   "outputs": [],
   "source": [
    "# Split data into features and output data\n",
    "x_r = kopa_regression.drop('AmountPaid360', axis = 1)\n",
    "y_r = kopa_regression['AmountPaid360']\n",
    "\n",
    "# create fisrt split\n",
    "x_train_r, x_holdout_r, y_train_r, y_holdout_r = train_test_split(x_r, y_r, test_size = 0.3, random_state = 42)\n",
    "\n",
    "# split into validation\n",
    "x_test_r, x_val_r, y_test_r, y_val_r = train_test_split(x_holdout_r, y_holdout_r, test_size = 0.3, random_state = 42)"
   ]
  },
  {
   "cell_type": "markdown",
   "metadata": {},
   "source": [
    "Modelling"
   ]
  },
  {
   "cell_type": "code",
   "execution_count": null,
   "metadata": {},
   "outputs": [
    {
     "name": "stdout",
     "output_type": "stream",
     "text": [
      "              precision    recall  f1-score   support\n",
      "\n",
      "           0       0.96      0.93      0.95      1023\n",
      "           1       0.50      0.62      0.56       109\n",
      "           2       1.00      1.00      1.00       248\n",
      "\n",
      "    accuracy                           0.92      1380\n",
      "   macro avg       0.82      0.85      0.83      1380\n",
      "weighted avg       0.93      0.92      0.93      1380\n",
      "\n"
     ]
    }
   ],
   "source": [
    "# Classification problem\n",
    "\n",
    "# Instatiate our model\n",
    "dt_classifier = DecisionTreeClassifier()\n",
    "\n",
    "# Train Model\n",
    "dt_classifier.fit(x_train_c, y_train_c)\n",
    "\n",
    "# Predict on our Model\n",
    "y_predictions = dt_classifier.predict(x_val_c)\n",
    "\n",
    "# Evaluate Model\n",
    "print(classification_report(y_val_c, y_predictions))"
   ]
  },
  {
   "cell_type": "code",
   "execution_count": null,
   "metadata": {},
   "outputs": [
    {
     "name": "stdout",
     "output_type": "stream",
     "text": [
      "              precision    recall  f1-score   support\n",
      "\n",
      "           0       0.95      0.95      0.95      1018\n",
      "           1       0.63      0.63      0.63       141\n",
      "           2       1.00      1.00      1.00       220\n",
      "\n",
      "    accuracy                           0.92      1379\n",
      "   macro avg       0.86      0.86      0.86      1379\n",
      "weighted avg       0.92      0.92      0.92      1379\n",
      "\n"
     ]
    }
   ],
   "source": [
    "# Regression model\n",
    "# Predict on our Model\n",
    "y_test_predictions = dt_classifier.predict(x_test_c)\n",
    "\n",
    "# Evaluate Model\n",
    "print(classification_report(y_test_c, y_test_predictions))"
   ]
  }
 ],
 "metadata": {
  "kernelspec": {
   "display_name": "Python 3.9.12 ('base')",
   "language": "python",
   "name": "python3"
  },
  "language_info": {
   "codemirror_mode": {
    "name": "ipython",
    "version": 3
   },
   "file_extension": ".py",
   "mimetype": "text/x-python",
   "name": "python",
   "nbconvert_exporter": "python",
   "pygments_lexer": "ipython3",
   "version": "3.9.12"
  },
  "orig_nbformat": 4,
  "vscode": {
   "interpreter": {
    "hash": "ad2bdc8ecc057115af97d19610ffacc2b4e99fae6737bb82f5d7fb13d2f2c186"
   }
  }
 },
 "nbformat": 4,
 "nbformat_minor": 2
}
