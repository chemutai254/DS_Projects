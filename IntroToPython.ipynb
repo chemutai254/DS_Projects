{
  "nbformat": 4,
  "nbformat_minor": 0,
  "metadata": {
    "colab": {
      "provenance": [],
      "authorship_tag": "ABX9TyOxLUBxQFblbcqG+j/e72DH",
      "include_colab_link": true
    },
    "kernelspec": {
      "name": "python3",
      "display_name": "Python 3"
    },
    "language_info": {
      "name": "python"
    }
  },
  "cells": [
    {
      "cell_type": "markdown",
      "metadata": {
        "id": "view-in-github",
        "colab_type": "text"
      },
      "source": [
        "<a href=\"https://colab.research.google.com/github/chemutai254/DS_Projects/blob/main/IntroToPython.ipynb\" target=\"_parent\"><img src=\"https://colab.research.google.com/assets/colab-badge.svg\" alt=\"Open In Colab\"/></a>"
      ]
    },
    {
      "cell_type": "markdown",
      "source": [
        "**Arithmetic Operators**\n",
        "- Performs mathematical operations.\n",
        "  - Addition (+)\n",
        "  - Subtraction (-)\n",
        "  - Multiplication (*)\n",
        "  - Division (/)\n",
        "  - Division Floor (//)\n",
        "  - Modulus (%)\n",
        "  - Power (**)\n",
        "\n",
        "\n"
      ],
      "metadata": {
        "id": "8jmYKBGxiJqt"
      }
    },
    {
      "cell_type": "code",
      "execution_count": 1,
      "metadata": {
        "id": "TWTNkhT4guVs",
        "colab": {
          "base_uri": "https://localhost:8080/"
        },
        "outputId": "ab89a5aa-e71b-4e4b-e469-873129fa31ef"
      },
      "outputs": [
        {
          "output_type": "execute_result",
          "data": {
            "text/plain": [
              "14"
            ]
          },
          "metadata": {},
          "execution_count": 1
        }
      ],
      "source": [
        "2 + 3 + 9"
      ]
    },
    {
      "cell_type": "code",
      "source": [
        "99 - 73"
      ],
      "metadata": {
        "colab": {
          "base_uri": "https://localhost:8080/"
        },
        "id": "IshFd3quhUiT",
        "outputId": "01d2334a-b4ef-4f16-ce64-a9b31a231882"
      },
      "execution_count": 2,
      "outputs": [
        {
          "output_type": "execute_result",
          "data": {
            "text/plain": [
              "26"
            ]
          },
          "metadata": {},
          "execution_count": 2
        }
      ]
    },
    {
      "cell_type": "code",
      "source": [
        "23.54 * -1432"
      ],
      "metadata": {
        "colab": {
          "base_uri": "https://localhost:8080/"
        },
        "id": "QzY4eLbohXVp",
        "outputId": "d97dfd82-74e2-4210-ca30-020cb84700ef"
      },
      "execution_count": 3,
      "outputs": [
        {
          "output_type": "execute_result",
          "data": {
            "text/plain": [
              "-33709.28"
            ]
          },
          "metadata": {},
          "execution_count": 3
        }
      ]
    },
    {
      "cell_type": "code",
      "source": [
        "100 / 7"
      ],
      "metadata": {
        "colab": {
          "base_uri": "https://localhost:8080/"
        },
        "id": "Q6wa9wo_hayz",
        "outputId": "1b088550-861c-4655-b671-4b62054c6f4c"
      },
      "execution_count": 4,
      "outputs": [
        {
          "output_type": "execute_result",
          "data": {
            "text/plain": [
              "14.285714285714286"
            ]
          },
          "metadata": {},
          "execution_count": 4
        }
      ]
    },
    {
      "cell_type": "code",
      "source": [
        "100 // 7"
      ],
      "metadata": {
        "colab": {
          "base_uri": "https://localhost:8080/"
        },
        "id": "lQFVraCghdJ3",
        "outputId": "104b62f6-5e2b-4e1f-c490-73c56c54caf9"
      },
      "execution_count": 5,
      "outputs": [
        {
          "output_type": "execute_result",
          "data": {
            "text/plain": [
              "14"
            ]
          },
          "metadata": {},
          "execution_count": 5
        }
      ]
    },
    {
      "cell_type": "code",
      "source": [
        "100 % 7"
      ],
      "metadata": {
        "colab": {
          "base_uri": "https://localhost:8080/"
        },
        "id": "Jmh1A2adhpYa",
        "outputId": "8a782f40-698c-463a-a0da-8677700f1004"
      },
      "execution_count": 6,
      "outputs": [
        {
          "output_type": "execute_result",
          "data": {
            "text/plain": [
              "2"
            ]
          },
          "metadata": {},
          "execution_count": 6
        }
      ]
    },
    {
      "cell_type": "code",
      "source": [
        "5 ** 3"
      ],
      "metadata": {
        "colab": {
          "base_uri": "https://localhost:8080/"
        },
        "id": "9OYfATG1ht-O",
        "outputId": "78356532-3fb9-4dbf-bc17-d889debe9ad5"
      },
      "execution_count": 7,
      "outputs": [
        {
          "output_type": "execute_result",
          "data": {
            "text/plain": [
              "125"
            ]
          },
          "metadata": {},
          "execution_count": 7
        }
      ]
    },
    {
      "cell_type": "markdown",
      "source": [
        "**Functions in Python**\n",
        "- **Functions** : A function is a reusable set of instructions. It takes one or more inputs, performs certain operations, and often returns an output.\n",
        "- **print()** : Used to display information. It takes one of more inputs which can be text, numbers, variables, mathematical expressions.\n",
        "- **Comments** : Added using # character. Comments and blank lines are ignored during execution, but they are useful for providing information to other humans about what the code does.\n",
        "- Comments can be:\n",
        "  - Inline (at the end of some code).\n",
        "  - On a separate line.\n",
        "  - Or even span multiple lines.(\"\"\"  \"\"\")"
      ],
      "metadata": {
        "id": "hA9fln7_jtz8"
      }
    },
    {
      "cell_type": "code",
      "source": [
        "# Store input data in variables\n",
        "cost_of_ice_bag = 1.25\n",
        "profit_margin = .2\n",
        "number_of_bags = 500\n",
        "\n",
        "# Perform the required calcluations\n",
        "profit_per_bag = cost_of_ice_bag * profit_margin\n",
        "total_profit = number_of_bags * profit_per_bag\n",
        "\n",
        "# Display the result\n",
        "print(\"The grocery store makes a total profit of $\", total_profit)"
      ],
      "metadata": {
        "colab": {
          "base_uri": "https://localhost:8080/"
        },
        "id": "VuJw8bv7jzuF",
        "outputId": "cc9cf63b-595e-43bb-e3c6-ffa47d79c865"
      },
      "execution_count": 8,
      "outputs": [
        {
          "output_type": "stream",
          "name": "stdout",
          "text": [
            "The grocery store makes a total profit of $ 125.0\n"
          ]
        }
      ]
    },
    {
      "cell_type": "markdown",
      "source": [
        "**Comparison Operators**\n",
        "- The result of a comparison operator is either **True** or **False**."
      ],
      "metadata": {
        "id": "QR1dxJ5KmCwB"
      }
    },
    {
      "cell_type": "code",
      "source": [
        "# Variables declaration\n",
        "my_fav_no = 1\n",
        "my_least_fav_no = 5\n",
        "a_neutral_no = 3\n"
      ],
      "metadata": {
        "id": "X9naO4e3pX9j"
      },
      "execution_count": 14,
      "outputs": []
    },
    {
      "cell_type": "code",
      "source": [
        "# Equality check - True\n",
        "my_fav_no == 1"
      ],
      "metadata": {
        "id": "ZWjTdu7jrXZ_",
        "outputId": "5ea04aa6-e034-488b-c60e-a44a1067e81b",
        "colab": {
          "base_uri": "https://localhost:8080/"
        }
      },
      "execution_count": 15,
      "outputs": [
        {
          "output_type": "execute_result",
          "data": {
            "text/plain": [
              "True"
            ]
          },
          "metadata": {},
          "execution_count": 15
        }
      ]
    },
    {
      "cell_type": "code",
      "source": [
        "# Equality check - False\n",
        "my_fav_no == my_least_fav_no"
      ],
      "metadata": {
        "id": "LMU05e4Arba9",
        "outputId": "efb06243-a7f9-4dc1-f590-89f9a8c3515e",
        "colab": {
          "base_uri": "https://localhost:8080/"
        }
      },
      "execution_count": 16,
      "outputs": [
        {
          "output_type": "execute_result",
          "data": {
            "text/plain": [
              "False"
            ]
          },
          "metadata": {},
          "execution_count": 16
        }
      ]
    },
    {
      "cell_type": "code",
      "source": [
        "# Not equal check - True\n",
        "my_fav_no != a_neutral_no"
      ],
      "metadata": {
        "id": "XXGE7Fn5rheN",
        "outputId": "c5224fc1-47cb-42d2-9e2e-4d328e7dd1e5",
        "colab": {
          "base_uri": "https://localhost:8080/"
        }
      },
      "execution_count": 17,
      "outputs": [
        {
          "output_type": "execute_result",
          "data": {
            "text/plain": [
              "True"
            ]
          },
          "metadata": {},
          "execution_count": 17
        }
      ]
    },
    {
      "cell_type": "code",
      "source": [
        "# Not equal check - False\n",
        "a_neutral_no != 3"
      ],
      "metadata": {
        "id": "ZNOglzQTrlEG",
        "outputId": "fa251b97-45c5-411c-f06c-fd665db2fc04",
        "colab": {
          "base_uri": "https://localhost:8080/"
        }
      },
      "execution_count": 18,
      "outputs": [
        {
          "output_type": "execute_result",
          "data": {
            "text/plain": [
              "False"
            ]
          },
          "metadata": {},
          "execution_count": 18
        }
      ]
    },
    {
      "cell_type": "code",
      "source": [
        "# Greater than check - True\n",
        "my_least_fav_no > a_neutral_no"
      ],
      "metadata": {
        "id": "jeh7kWn8r3OI",
        "outputId": "0b6d2233-5461-4710-990d-b8178e847e95",
        "colab": {
          "base_uri": "https://localhost:8080/"
        }
      },
      "execution_count": 19,
      "outputs": [
        {
          "output_type": "execute_result",
          "data": {
            "text/plain": [
              "True"
            ]
          },
          "metadata": {},
          "execution_count": 19
        }
      ]
    },
    {
      "cell_type": "code",
      "source": [
        "# Greater than check - false\n",
        "my_fav_no > my_least_fav_no"
      ],
      "metadata": {
        "id": "6JKvb6v0ruGi",
        "outputId": "568ec310-b7be-4a73-d2b2-e25ebbd26f4e",
        "colab": {
          "base_uri": "https://localhost:8080/"
        }
      },
      "execution_count": 20,
      "outputs": [
        {
          "output_type": "execute_result",
          "data": {
            "text/plain": [
              "False"
            ]
          },
          "metadata": {},
          "execution_count": 20
        }
      ]
    },
    {
      "cell_type": "code",
      "source": [
        "# Less than check - True\n",
        "my_fav_no < 10"
      ],
      "metadata": {
        "id": "viUb3UcrsJbT",
        "outputId": "d62777d9-58c9-4031-a1bd-af52be561aa1",
        "colab": {
          "base_uri": "https://localhost:8080/"
        }
      },
      "execution_count": 21,
      "outputs": [
        {
          "output_type": "execute_result",
          "data": {
            "text/plain": [
              "True"
            ]
          },
          "metadata": {},
          "execution_count": 21
        }
      ]
    },
    {
      "cell_type": "code",
      "source": [
        "# Less than check - False\n",
        "my_least_fav_no < my_fav_no"
      ],
      "metadata": {
        "id": "VilwJJyLsSho",
        "outputId": "7e450374-2d7c-4146-eef1-9655cf99f86a",
        "colab": {
          "base_uri": "https://localhost:8080/"
        }
      },
      "execution_count": 22,
      "outputs": [
        {
          "output_type": "execute_result",
          "data": {
            "text/plain": [
              "False"
            ]
          },
          "metadata": {},
          "execution_count": 22
        }
      ]
    },
    {
      "cell_type": "code",
      "source": [
        "# Greater than or equal check - True\n",
        "my_fav_no >= 1"
      ],
      "metadata": {
        "id": "WV3HdhKJseiv",
        "outputId": "ceba5502-93c5-41c1-97e7-72e10695adac",
        "colab": {
          "base_uri": "https://localhost:8080/"
        }
      },
      "execution_count": 23,
      "outputs": [
        {
          "output_type": "execute_result",
          "data": {
            "text/plain": [
              "True"
            ]
          },
          "metadata": {},
          "execution_count": 23
        }
      ]
    },
    {
      "cell_type": "code",
      "source": [
        "# Greater than or equal check - True\n",
        "my_fav_no >= 1"
      ],
      "metadata": {
        "id": "1O1D8Fe0snSk",
        "outputId": "a68a0e49-aa3b-4aea-bfd5-5d353dafa540",
        "colab": {
          "base_uri": "https://localhost:8080/"
        }
      },
      "execution_count": 24,
      "outputs": [
        {
          "output_type": "execute_result",
          "data": {
            "text/plain": [
              "True"
            ]
          },
          "metadata": {},
          "execution_count": 24
        }
      ]
    },
    {
      "cell_type": "code",
      "source": [
        "# Greater than or equal check - False\n",
        "my_fav_no >= 3"
      ],
      "metadata": {
        "id": "xNj9tHxeswQF",
        "outputId": "10b3c30f-7c11-41cd-dfc3-ff92c7b48de7",
        "colab": {
          "base_uri": "https://localhost:8080/"
        }
      },
      "execution_count": 25,
      "outputs": [
        {
          "output_type": "execute_result",
          "data": {
            "text/plain": [
              "False"
            ]
          },
          "metadata": {},
          "execution_count": 25
        }
      ]
    },
    {
      "cell_type": "code",
      "source": [
        "# Less than or equal check - True\n",
        "3 + 6 <= 9"
      ],
      "metadata": {
        "id": "86gdZHIAs3oq",
        "outputId": "27cc850a-292b-46f3-c6fb-63d57164eeba",
        "colab": {
          "base_uri": "https://localhost:8080/"
        }
      },
      "execution_count": 27,
      "outputs": [
        {
          "output_type": "execute_result",
          "data": {
            "text/plain": [
              "True"
            ]
          },
          "metadata": {},
          "execution_count": 27
        }
      ]
    },
    {
      "cell_type": "code",
      "source": [
        "cost_of_ice_bag = 1.25\n",
        "is_ice_bag_expensive = cost_of_ice_bag >= 10\n",
        "print(\"Is the ice bag expensive?\", is_ice_bag_expensive)"
      ],
      "metadata": {
        "colab": {
          "base_uri": "https://localhost:8080/"
        },
        "id": "gFwO7-y2mGwL",
        "outputId": "e0914ac0-22fc-456c-935f-ff923db2d6a9"
      },
      "execution_count": 9,
      "outputs": [
        {
          "output_type": "stream",
          "name": "stdout",
          "text": [
            "Is the ice bag expensive? False\n"
          ]
        }
      ]
    },
    {
      "cell_type": "markdown",
      "source": [
        "**Logical Operators**\n",
        "- The logical operators **and**, **or**, and **not** operate upon conditions and **True** & **False** values.\n",
        "- **And** and **or** operate on two conditions, wheres **not** operates on a single condition.\n",
        "- The **and** operator returns **True** when both conditions evaluate to **True**. Otherwise it returns **False**.\n",
        "                    a       b       a and b\n",
        "                  True    True       True\n",
        "                  True    False      False\n",
        "                  False   True       False\n",
        "                  False   False      False\n",
        "\n",
        "\n"
      ],
      "metadata": {
        "id": "vkcnEnVwmusX"
      }
    },
    {
      "cell_type": "code",
      "source": [
        "my_fav_no"
      ],
      "metadata": {
        "colab": {
          "base_uri": "https://localhost:8080/"
        },
        "id": "DxcamgmomyuJ",
        "outputId": "c90127fa-806e-421a-be1e-7294b60fb83e"
      },
      "execution_count": 28,
      "outputs": [
        {
          "output_type": "execute_result",
          "data": {
            "text/plain": [
              "1"
            ]
          },
          "metadata": {},
          "execution_count": 28
        }
      ]
    },
    {
      "cell_type": "code",
      "source": [
        "my_fav_no > 0 and my_fav_no <= 3"
      ],
      "metadata": {
        "id": "bepDbpmrv-ay",
        "outputId": "a4d3308d-2a47-4af2-8198-23a27576c6c1",
        "colab": {
          "base_uri": "https://localhost:8080/"
        }
      },
      "execution_count": 29,
      "outputs": [
        {
          "output_type": "execute_result",
          "data": {
            "text/plain": [
              "True"
            ]
          },
          "metadata": {},
          "execution_count": 29
        }
      ]
    },
    {
      "cell_type": "code",
      "source": [
        "my_fav_no < 0 and my_fav_no <= 3"
      ],
      "metadata": {
        "id": "yWdWzzRiwIUV",
        "outputId": "26ab40cf-7c35-4873-a940-aa4f67d9f4fc",
        "colab": {
          "base_uri": "https://localhost:8080/"
        }
      },
      "execution_count": 30,
      "outputs": [
        {
          "output_type": "execute_result",
          "data": {
            "text/plain": [
              "False"
            ]
          },
          "metadata": {},
          "execution_count": 30
        }
      ]
    },
    {
      "cell_type": "code",
      "source": [
        "my_fav_no > 0 and my_fav_no >= 3"
      ],
      "metadata": {
        "id": "Hh6pnPCpwLkA",
        "outputId": "811f6614-6b8c-432e-b139-8b5c5dd0abf7",
        "colab": {
          "base_uri": "https://localhost:8080/"
        }
      },
      "execution_count": 31,
      "outputs": [
        {
          "output_type": "execute_result",
          "data": {
            "text/plain": [
              "False"
            ]
          },
          "metadata": {},
          "execution_count": 31
        }
      ]
    },
    {
      "cell_type": "markdown",
      "source": [
        "**Or Operation**\n",
        "- The **or** operator returns **True** if at least one of the conditions evaluate to **True**.\n",
        "- It returns **False** only if both conditions are **False**.\n",
        "                    a         b       a or b\n",
        "                  True      True       True\n",
        "                  True      False      True\n",
        "                  False     True       True\n",
        "                  False     False      False"
      ],
      "metadata": {
        "id": "bAobadhaw6R2"
      }
    },
    {
      "cell_type": "code",
      "source": [
        "a_neutral_no = 3"
      ],
      "metadata": {
        "id": "7BMXbCU5wSEf"
      },
      "execution_count": 33,
      "outputs": []
    },
    {
      "cell_type": "code",
      "source": [
        "a_neutral_no == 3 or my_fav_no < 0"
      ],
      "metadata": {
        "id": "SzLJ5wO1x2BS",
        "outputId": "fb140a14-a69d-4b22-8f70-fda60f3994dc",
        "colab": {
          "base_uri": "https://localhost:8080/"
        }
      },
      "execution_count": 34,
      "outputs": [
        {
          "output_type": "execute_result",
          "data": {
            "text/plain": [
              "True"
            ]
          },
          "metadata": {},
          "execution_count": 34
        }
      ]
    },
    {
      "cell_type": "code",
      "source": [
        "a_neutral_no != 3 or my_fav_no < 0"
      ],
      "metadata": {
        "id": "iNgKh4-PyN3x",
        "outputId": "d08e0093-02f6-4a2f-9f82-ffe40b4704bf",
        "colab": {
          "base_uri": "https://localhost:8080/"
        }
      },
      "execution_count": 35,
      "outputs": [
        {
          "output_type": "execute_result",
          "data": {
            "text/plain": [
              "False"
            ]
          },
          "metadata": {},
          "execution_count": 35
        }
      ]
    },
    {
      "cell_type": "code",
      "source": [
        "my_fav_no < 0 or True"
      ],
      "metadata": {
        "id": "Pn8FlCopyctf",
        "outputId": "c4fd6255-0c3d-4ad5-de3c-6224c3679a5e",
        "colab": {
          "base_uri": "https://localhost:8080/"
        }
      },
      "execution_count": 36,
      "outputs": [
        {
          "output_type": "execute_result",
          "data": {
            "text/plain": [
              "True"
            ]
          },
          "metadata": {},
          "execution_count": 36
        }
      ]
    },
    {
      "cell_type": "code",
      "source": [
        "False or False"
      ],
      "metadata": {
        "id": "5wkff_PWyoke",
        "outputId": "a72317df-3c0f-4a0e-8f13-e72ab4483b59",
        "colab": {
          "base_uri": "https://localhost:8080/"
        }
      },
      "execution_count": 37,
      "outputs": [
        {
          "output_type": "execute_result",
          "data": {
            "text/plain": [
              "False"
            ]
          },
          "metadata": {},
          "execution_count": 37
        }
      ]
    },
    {
      "cell_type": "markdown",
      "source": [
        "The **not** operator returns **False** if a condition is **True** and **True** if the condition is **False**"
      ],
      "metadata": {
        "id": "wOFC3MAEysaO"
      }
    },
    {
      "cell_type": "code",
      "source": [
        "not a_neutral_no == 3"
      ],
      "metadata": {
        "id": "-snj47MYy3Yu",
        "outputId": "21cd42f3-6b41-4a6d-f21f-447bab623545",
        "colab": {
          "base_uri": "https://localhost:8080/"
        }
      },
      "execution_count": 39,
      "outputs": [
        {
          "output_type": "execute_result",
          "data": {
            "text/plain": [
              "False"
            ]
          },
          "metadata": {},
          "execution_count": 39
        }
      ]
    },
    {
      "cell_type": "code",
      "source": [
        "not my_fav_no < 0"
      ],
      "metadata": {
        "id": "fkraz_gSzABT",
        "outputId": "f76780d4-da93-4513-9612-29c5771c78bc",
        "colab": {
          "base_uri": "https://localhost:8080/"
        }
      },
      "execution_count": 40,
      "outputs": [
        {
          "output_type": "execute_result",
          "data": {
            "text/plain": [
              "True"
            ]
          },
          "metadata": {},
          "execution_count": 40
        }
      ]
    },
    {
      "cell_type": "code",
      "source": [
        "not False"
      ],
      "metadata": {
        "id": "MFRa_FL1zDeI",
        "outputId": "8dafa343-2e0e-495d-b105-66e293ae4e6e",
        "colab": {
          "base_uri": "https://localhost:8080/"
        }
      },
      "execution_count": 41,
      "outputs": [
        {
          "output_type": "execute_result",
          "data": {
            "text/plain": [
              "True"
            ]
          },
          "metadata": {},
          "execution_count": 41
        }
      ]
    },
    {
      "cell_type": "code",
      "source": [
        "not True"
      ],
      "metadata": {
        "id": "DIOjb2qTzG-L",
        "outputId": "aba20b12-2c94-4ecf-974c-3b896077e376",
        "colab": {
          "base_uri": "https://localhost:8080/"
        }
      },
      "execution_count": 42,
      "outputs": [
        {
          "output_type": "execute_result",
          "data": {
            "text/plain": [
              "False"
            ]
          },
          "metadata": {},
          "execution_count": 42
        }
      ]
    },
    {
      "cell_type": "markdown",
      "source": [
        "Logical Operators can be combined to form complex conditions. Use round brackets or parenthesis **(** and **)** to indicate the order in which logical operators should be applied."
      ],
      "metadata": {
        "id": "mjHzPxFnzXcW"
      }
    },
    {
      "cell_type": "code",
      "source": [
        "(2 > 3 and 4 <= 5) or not (my_fav_no < 0 and True)"
      ],
      "metadata": {
        "id": "eGc_CW1P4nZL",
        "outputId": "66c96a3a-21ea-429a-bfc6-cbc52e2742f2",
        "colab": {
          "base_uri": "https://localhost:8080/"
        }
      },
      "execution_count": 44,
      "outputs": [
        {
          "output_type": "execute_result",
          "data": {
            "text/plain": [
              "True"
            ]
          },
          "metadata": {},
          "execution_count": 44
        }
      ]
    },
    {
      "cell_type": "code",
      "source": [
        "not (True and 0 < 1) or (False and True)"
      ],
      "metadata": {
        "id": "E1dJn4pL7nX2",
        "outputId": "0532a299-0c5e-4fe0-aed4-f91fba2386ce",
        "colab": {
          "base_uri": "https://localhost:8080/"
        }
      },
      "execution_count": 45,
      "outputs": [
        {
          "output_type": "execute_result",
          "data": {
            "text/plain": [
              "False"
            ]
          },
          "metadata": {},
          "execution_count": 45
        }
      ]
    },
    {
      "cell_type": "markdown",
      "source": [
        "- If parenthesis are not used, lofical operators are applied from left to right"
      ],
      "metadata": {
        "id": "Um-l1PZV7wQ2"
      }
    },
    {
      "cell_type": "code",
      "source": [
        "not True and 0 < 1 or False and True"
      ],
      "metadata": {
        "id": "8wM0eaLs74F5",
        "outputId": "03055127-dc9d-4d17-db78-d9f658c6d716",
        "colab": {
          "base_uri": "https://localhost:8080/"
        }
      },
      "execution_count": 46,
      "outputs": [
        {
          "output_type": "execute_result",
          "data": {
            "text/plain": [
              "False"
            ]
          },
          "metadata": {},
          "execution_count": 46
        }
      ]
    },
    {
      "cell_type": "markdown",
      "source": [
        "## Adding Text Styles using Markdown\n",
        "# Header 1\n",
        "## Header 2\n",
        "### Header 3\n",
        "#### Header 4\n",
        "\n",
        "### Bulleted list:\n",
        "- To create bulleted or numbered list, simply start a line with `*` or `l.`.\n",
        "  * Item 1\n",
        "  * Item 2\n",
        "  * Item 3\n",
        "\n",
        "### Numbered List:\n",
        "  1. Apple\n",
        "  2. Bananas\n",
        "  3. Pineapple\n",
        "\n",
        "  *Italic*\n",
        "\n",
        "!.[_]. - Images\n",
        "\n",
        "```\n",
        "Multiple Line Comments.\n",
        "```\n",
        "\n",
        "\n",
        "\n",
        "\n"
      ],
      "metadata": {
        "id": "igDE1gaH8L-d"
      }
    },
    {
      "cell_type": "code",
      "source": [
        "## Save and Upload the Notebook\n",
        "# !pip install jovian --upgrade --quiet"
      ],
      "metadata": {
        "id": "CfbdiPh4-C8O"
      },
      "execution_count": 50,
      "outputs": []
    },
    {
      "cell_type": "code",
      "source": [
        "# import jovian"
      ],
      "metadata": {
        "id": "0TC2yd0O-PBd"
      },
      "execution_count": 51,
      "outputs": []
    },
    {
      "cell_type": "code",
      "source": [
        "# jovian.commit(project='IntroToPython')"
      ],
      "metadata": {
        "id": "l9GrDt4Q-SLj"
      },
      "execution_count": 52,
      "outputs": []
    }
  ]
}